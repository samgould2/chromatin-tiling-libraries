{
 "cells": [
  {
   "cell_type": "markdown",
   "metadata": {},
   "source": [
    "# Combining Human & Mouse libraries"
   ]
  },
  {
   "cell_type": "code",
   "execution_count": 1,
   "metadata": {},
   "outputs": [
    {
     "name": "stderr",
     "output_type": "stream",
     "text": [
      "/Users/samgould/opt/anaconda3/lib/python3.9/site-packages/Bio/pairwise2.py:278: BiopythonDeprecationWarning: Bio.pairwise2 has been deprecated, and we intend to remove it in a future release of Biopython. As an alternative, please consider using Bio.Align.PairwiseAligner as a replacement, and contact the Biopython developers if you still need the Bio.pairwise2 module.\n",
      "  warnings.warn(\n"
     ]
    }
   ],
   "source": [
    "import numpy as np\n",
    "import gffutils\n",
    "import matplotlib.pyplot as plt \n",
    "import seaborn as sns\n",
    "import pandas as pd \n",
    "from pegg import prime\n",
    "import Bio.Seq"
   ]
  },
  {
   "cell_type": "code",
   "execution_count": 24,
   "metadata": {},
   "outputs": [],
   "source": [
    "human = pd.read_csv('Human_tiling_library.csv')\n",
    "mouse = pd.read_csv('Mouse_tiling_library.csv')\n",
    "\n",
    "#adding information about whether gRNAs are dupliced as well\n",
    "u, c= np.unique(human['proto_G+19'], return_counts=True)\n",
    "dup_human = pd.DataFrame(dict(zip(['protospacer', 'count'],[u,c]))).sort_values(by='count', ascending=False)\n",
    "dup_human['duplicated_guide'] = [True if i>1 else False for i in dup_human['count']]\n",
    "\n",
    "for i, val in dup_human.iterrows():\n",
    "\n",
    "    p = val['protospacer']\n",
    "    c = val['count']\n",
    "    d = val['duplicated_guide']\n",
    "\n",
    "    human.loc[human['proto_G+19']==p, 'duplicated_guide'] = d\n",
    "    human.loc[human['proto_G+19']==p, 'num_duplicates'] = c\n",
    "  "
   ]
  },
  {
   "cell_type": "code",
   "execution_count": 29,
   "metadata": {},
   "outputs": [],
   "source": [
    "#adding information about whether gRNAs are dupliced as well\n",
    "u, c= np.unique(mouse['proto_G+19'], return_counts=True)\n",
    "dup_mouse = pd.DataFrame(dict(zip(['protospacer', 'count'],[u,c]))).sort_values(by='count', ascending=False)\n",
    "dup_mouse['duplicated_guide'] = [True if i>1 else False for i in dup_mouse['count']]\n",
    "\n",
    "for i, val in dup_mouse.iterrows():\n",
    "\n",
    "    p = val['protospacer']\n",
    "    c = val['count']\n",
    "    d = val['duplicated_guide']\n",
    "\n",
    "    mouse.loc[mouse['proto_G+19']==p, 'duplicated_guide'] = d\n",
    "    mouse.loc[mouse['proto_G+19']==p, 'num_duplicates'] = c"
   ]
  },
  {
   "cell_type": "code",
   "execution_count": 27,
   "metadata": {},
   "outputs": [
    {
     "data": {
      "text/plain": [
       "(array([False, True], dtype=object), array([31248,   945]))"
      ]
     },
     "execution_count": 27,
     "metadata": {},
     "output_type": "execute_result"
    }
   ],
   "source": [
    "np.unique(human['duplicated_guide'], return_counts=True)"
   ]
  },
  {
   "cell_type": "code",
   "execution_count": 30,
   "metadata": {},
   "outputs": [
    {
     "data": {
      "text/plain": [
       "(array([False, True], dtype=object), array([31174,  1114]))"
      ]
     },
     "execution_count": 30,
     "metadata": {},
     "output_type": "execute_result"
    }
   ],
   "source": [
    "np.unique(mouse['duplicated_guide'], return_counts=True)"
   ]
  },
  {
   "cell_type": "code",
   "execution_count": 31,
   "metadata": {},
   "outputs": [
    {
     "name": "stdout",
     "output_type": "stream",
     "text": [
      "64481\n",
      "64481\n",
      "64481\n",
      "58866\n",
      "62316\n"
     ]
    }
   ],
   "source": [
    "merged = pd.concat((human, mouse)).reset_index(drop=True)\n",
    "\n",
    "print(len(np.unique(merged['gRNA_id'])))\n",
    "print(len(np.unique(merged['gRNA_oligo'])))\n",
    "print(len(np.unique(merged['Hamming_BC'])))\n",
    "print(len(np.unique(merged['proto_G+19'])))\n",
    "print(len(np.unique(merged['sensor_wt'])))\n"
   ]
  },
  {
   "cell_type": "code",
   "execution_count": null,
   "metadata": {},
   "outputs": [],
   "source": [
    "#merged.to_csv('Human_and_Mouse_tiling_libraries.csv', index=False)"
   ]
  },
  {
   "cell_type": "code",
   "execution_count": 34,
   "metadata": {},
   "outputs": [
    {
     "data": {
      "text/plain": [
       "(array(['F1-R1', 'F1-R2', 'F1-R3', 'F1-R4', 'F1-R5', 'F1-R6', 'F2-R1',\n",
       "        'F2-R2', 'F2-R3', 'F2-R4', 'F2-R5', 'F2-R6'], dtype=object),\n",
       " array([ 1263,  2046,  5852,  5586,  6934, 10512,  1155,  1984,  6445,\n",
       "         5135,  7072, 10497]))"
      ]
     },
     "execution_count": 34,
     "metadata": {},
     "output_type": "execute_result"
    }
   ],
   "source": [
    "np.unique(merged['Pool'], return_counts=True)"
   ]
  }
 ],
 "metadata": {
  "kernelspec": {
   "display_name": "base",
   "language": "python",
   "name": "python3"
  },
  "language_info": {
   "codemirror_mode": {
    "name": "ipython",
    "version": 3
   },
   "file_extension": ".py",
   "mimetype": "text/x-python",
   "name": "python",
   "nbconvert_exporter": "python",
   "pygments_lexer": "ipython3",
   "version": "3.9.12"
  }
 },
 "nbformat": 4,
 "nbformat_minor": 2
}
